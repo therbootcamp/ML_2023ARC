{
 "cells": [
  {
   "cell_type": "code",
   "execution_count": 5,
   "metadata": {},
   "outputs": [
    {
     "name": "stdout",
     "output_type": "stream",
     "text": [
      "771\n"
     ]
    }
   ],
   "source": [
    "f = open('1_Data/anis.txt')\n",
    "words = f.read().split(\"\\n\")\n",
    "to = open(\"1_Data/animal_vectors.txt\",'a')\n",
    "n = 0\n",
    "with open(\"/Users/dirkwulff/Dropbox (2.0)/Work/Projects/Supervision/_materials/de\") as f:\n",
    "    for lin in f:\n",
    "        w = lin.split(\" \")[0].lower()\n",
    "        if len(words) == 0:\n",
    "            print(\"Reached end\")\n",
    "            break\n",
    "        if w in words:\n",
    "            n += 1\n",
    "            if n % 1000 is 0: print(n)\n",
    "            to.write(lin)\n",
    "            words.remove(w)\n",
    "f.close()\n",
    "print(n)"
   ]
  },
  {
   "cell_type": "code",
   "execution_count": null,
   "metadata": {},
   "outputs": [],
   "source": []
  }
 ],
 "metadata": {
  "kernelspec": {
   "display_name": "Python 3",
   "language": "python",
   "name": "python3"
  },
  "language_info": {
   "codemirror_mode": {
    "name": "ipython",
    "version": 3
   },
   "file_extension": ".py",
   "mimetype": "text/x-python",
   "name": "python",
   "nbconvert_exporter": "python",
   "pygments_lexer": "ipython3",
   "version": "3.7.3"
  }
 },
 "nbformat": 4,
 "nbformat_minor": 4
}
